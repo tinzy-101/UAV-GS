{
 "cells": [
  {
   "cell_type": "markdown",
   "id": "0bb29240",
   "metadata": {},
   "source": [
    "<h1> Part 1: Blob Detection with OpenCV </h1>\n",
    "In this section we will use OpenCV's SimpleBlobDetector class to detect blobs in an image. Run the cell below to import libraries: "
   ]
  },
  {
   "cell_type": "code",
   "execution_count": null,
   "id": "27e1afce",
   "metadata": {},
   "outputs": [],
   "source": [
    "import cv2\n",
    "import numpy as np\n",
    "from matplotlib import pyplot as plt\n",
    "\n",
    "#Some helper functions that will be useful later\n",
    "def draw_keypoints_on_image(keypoints, image):\n",
    "    for kp in keypoints:\n",
    "        x, y = int(kp.pt[0]), int(kp.pt[1])  # center\n",
    "        r = int(kp.size / 2)  # radius\n",
    "        cv2.circle(image, (x, y), r, (0, 255, 0), thickness=3)\n",
    "    return image"
   ]
  },
  {
   "cell_type": "markdown",
   "id": "039df41c",
   "metadata": {},
   "source": [
    "First, lets load the image and see what they look like:"
   ]
  },
  {
   "cell_type": "code",
   "execution_count": null,
   "id": "88993058",
   "metadata": {},
   "outputs": [],
   "source": [
    "FILE_1 = r\"images\\polka_dots_1.png\"\n",
    "original_image_1 = cv2.imread(FILE_1)\n",
    "\n",
    "plt.imshow(original_image_1)\n",
    "plt.axis(\"off\")\n",
    "plt.show()"
   ]
  },
  {
   "cell_type": "markdown",
   "id": "1da69db0",
   "metadata": {},
   "source": [
    "Now, we can grayscale the image and simply call the SimpleBlobDetector constructor to detect blobs"
   ]
  },
  {
   "cell_type": "code",
   "execution_count": null,
   "id": "c7aa456d",
   "metadata": {},
   "outputs": [],
   "source": [
    "image = cv2.imread(FILE_1, cv2.IMREAD_GRAYSCALE)\n",
    "\n",
    "params = cv2.SimpleBlobDetector_Params()\n",
    "\n",
    "# Parameters\n",
    "params.minThreshold = 1   \n",
    "params.maxThreshold = 10   \n",
    "params.filterByArea = False\n",
    "params.filterByCircularity = False\n",
    "params.filterByConvexity = False\n",
    "params.filterByInertia = False\n",
    "params.filterByColor = False\n",
    "\n",
    "detector = cv2.SimpleBlobDetector_create(params)\n",
    "keypoints = detector.detect(image)\n",
    "\n",
    "# Convert grayscale image to color for drawing\n",
    "output = cv2.cvtColor(image, cv2.COLOR_GRAY2BGR)\n",
    "\n",
    "output = draw_keypoints_on_image(keypoints, output)\n",
    "plt.imshow(output)\n",
    "plt.axis(\"off\")\n",
    "plt.show()\n"
   ]
  },
  {
   "cell_type": "markdown",
   "id": "49c6bf5f",
   "metadata": {},
   "source": [
    "Wait, what's going on here? Why are none of the polka dots circled? \\\n",
    "We need to set better parameters in order for OpenCV to detect the blobs! Check out the OpenCV reference to see what parameters you can change(https://docs.opencv.org/3.4/d8/da7/structcv_1_1SimpleBlobDetector_1_1Params.html)\n",
    "\n"
   ]
  },
  {
   "cell_type": "code",
   "execution_count": null,
   "id": "f9cc7b96",
   "metadata": {},
   "outputs": [],
   "source": [
    "#TODO: edit/add parameters so blobs are circled\n",
    "params.minThreshold = 1  \n",
    "params.maxThreshold = 10 \n",
    "params.filterByArea = False\n",
    "params.filterByCircularity = False\n",
    "params.filterByConvexity = False\n",
    "params.filterByInertia = False\n",
    "params.filterByColor = False\n",
    "\n",
    "detector = cv2.SimpleBlobDetector_create(params)\n",
    "keypoints = detector.detect(image)\n",
    "\n",
    "#Convert grayscale image to color for drawing\n",
    "output = cv2.cvtColor(image, cv2.COLOR_GRAY2BGR)\n",
    "\n",
    "output = draw_keypoints_on_image(keypoints, output)\n",
    "plt.imshow(output)\n",
    "plt.axis(\"off\")\n",
    "plt.show()"
   ]
  },
  {
   "cell_type": "markdown",
   "id": "fd84e541",
   "metadata": {},
   "source": [
    "Congrats! You now have a simple blob detector ready for use. Feel free to try this blob detector on other images to see what happens!"
   ]
  },
  {
   "cell_type": "markdown",
   "id": "76aec1fe",
   "metadata": {},
   "source": [
    "<h1> (Optional) Part 2: Create your own blob detection system! </h1>\n",
    "\n",
    "Using LoG or your own method, design a system to detect objects on a uniform background\n"
   ]
  },
  {
   "cell_type": "code",
   "execution_count": null,
   "id": "2beb9621",
   "metadata": {},
   "outputs": [],
   "source": [
    "def get_keypoints(image):\n",
    "    #YOUR CODE HERE\n",
    "    return\n",
    "\n",
    "keypoints = get_keypoints(image)\n",
    "output = draw_keypoints_on_image(keypoints, output)\n",
    "plt.imshow(output)\n",
    "plt.axis(\"off\")\n",
    "plt.show()"
   ]
  }
 ],
 "metadata": {
  "kernelspec": {
   "display_name": "Python 3",
   "language": "python",
   "name": "python3"
  },
  "language_info": {
   "codemirror_mode": {
    "name": "ipython",
    "version": 3
   },
   "file_extension": ".py",
   "mimetype": "text/x-python",
   "name": "python",
   "nbconvert_exporter": "python",
   "pygments_lexer": "ipython3",
   "version": "3.13.0"
  }
 },
 "nbformat": 4,
 "nbformat_minor": 5
}
